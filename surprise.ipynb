{
 "cells": [
  {
   "cell_type": "code",
   "execution_count": 1,
   "id": "7h3Na0xJMNX7",
   "metadata": {
    "colab": {
     "base_uri": "https://localhost:8080/"
    },
    "executionInfo": {
     "elapsed": 19105,
     "status": "ok",
     "timestamp": 1688014288432,
     "user": {
      "displayName": "박주경",
      "userId": "06694313831384541311"
     },
     "user_tz": -540
    },
    "id": "7h3Na0xJMNX7",
    "outputId": "28fe2a7b-a8e3-494d-e398-3f441f006f80"
   },
   "outputs": [
    {
     "name": "stdout",
     "output_type": "stream",
     "text": [
      "Mounted at /content/drive\n"
     ]
    }
   ],
   "source": [
    "from google.colab import drive\n",
    "drive.mount('/content/drive')"
   ]
  },
  {
   "cell_type": "markdown",
   "id": "63f143d0",
   "metadata": {
    "id": "63f143d0"
   },
   "source": [
    "### 군집화"
   ]
  },
  {
   "cell_type": "code",
   "execution_count": null,
   "id": "09543432",
   "metadata": {
    "id": "09543432"
   },
   "outputs": [],
   "source": [
    "import pandas as pd\n",
    "import warnings\n",
    "warnings.filterwarnings('ignore')\n",
    "\n",
    "# master_c0 = pd.read_excel('master_c0.xlsx', index_col=0)\n",
    "# master_c1 = pd.read_excel('master_c1.xlsx', index_col=0)\n",
    "# master_c2 = pd.read_excel('master_c2.xlsx', index_col=0)\n",
    "\n",
    "master_c0 = pd.read_excel('/content/drive/Othercomputers/내 컴퓨터/hmkd1/lmembers 분석/master_c0.xlsx')\n",
    "master_c1 = pd.read_excel('/content/drive/Othercomputers/내 컴퓨터/hmkd1/lmembers 분석/master_c1.xlsx')\n",
    "master_c2 = pd.read_excel('/content/drive/Othercomputers/내 컴퓨터/hmkd1/lmembers 분석/master_c2.xlsx')\n",
    "master_c0.head(2)"
   ]
  },
  {
   "cell_type": "markdown",
   "id": "a444d230",
   "metadata": {
    "id": "a444d230"
   },
   "source": [
    "# 서프라이즈"
   ]
  },
  {
   "cell_type": "code",
   "execution_count": 2,
   "id": "36d7d112",
   "metadata": {
    "colab": {
     "base_uri": "https://localhost:8080/"
    },
    "executionInfo": {
     "elapsed": 44035,
     "status": "ok",
     "timestamp": 1688014376666,
     "user": {
      "displayName": "박주경",
      "userId": "06694313831384541311"
     },
     "user_tz": -540
    },
    "id": "36d7d112",
    "outputId": "9e3d261b-ec1c-4bae-b14c-2dd404089cbb"
   },
   "outputs": [
    {
     "name": "stdout",
     "output_type": "stream",
     "text": [
      "Collecting scikit-surprise\n",
      "  Downloading scikit-surprise-1.1.3.tar.gz (771 kB)\n",
      "\u001b[?25l     \u001b[90m━━━━━━━━━━━━━━━━━━━━━━━━━━━━━━━━━━━━━━━━\u001b[0m \u001b[32m0.0/772.0 kB\u001b[0m \u001b[31m?\u001b[0m eta \u001b[36m-:--:--\u001b[0m\r",
      "\u001b[2K     \u001b[90m━━━━━━━━━━━━━━━━━━━━━━━━━━━━━━━━━━━━━━\u001b[0m \u001b[32m772.0/772.0 kB\u001b[0m \u001b[31m39.4 MB/s\u001b[0m eta \u001b[36m0:00:00\u001b[0m\n",
      "\u001b[?25h  Preparing metadata (setup.py) ... \u001b[?25l\u001b[?25hdone\n",
      "Requirement already satisfied: joblib>=1.0.0 in /usr/local/lib/python3.10/dist-packages (from scikit-surprise) (1.2.0)\n",
      "Requirement already satisfied: numpy>=1.17.3 in /usr/local/lib/python3.10/dist-packages (from scikit-surprise) (1.22.4)\n",
      "Requirement already satisfied: scipy>=1.3.2 in /usr/local/lib/python3.10/dist-packages (from scikit-surprise) (1.10.1)\n",
      "Building wheels for collected packages: scikit-surprise\n",
      "  Building wheel for scikit-surprise (setup.py) ... \u001b[?25l\u001b[?25hdone\n",
      "  Created wheel for scikit-surprise: filename=scikit_surprise-1.1.3-cp310-cp310-linux_x86_64.whl size=3096326 sha256=e8611436b4ecfd54ec6f3cfab6e6b1678eef030c78ea47ba32889558cdfcc613\n",
      "  Stored in directory: /root/.cache/pip/wheels/a5/ca/a8/4e28def53797fdc4363ca4af740db15a9c2f1595ebc51fb445\n",
      "Successfully built scikit-surprise\n",
      "Installing collected packages: scikit-surprise\n",
      "Successfully installed scikit-surprise-1.1.3\n"
     ]
    }
   ],
   "source": [
    "! pip install scikit-surprise"
   ]
  },
  {
   "cell_type": "code",
   "execution_count": null,
   "id": "a6e4a9d9",
   "metadata": {
    "colab": {
     "base_uri": "https://localhost:8080/"
    },
    "executionInfo": {
     "elapsed": 7,
     "status": "ok",
     "timestamp": 1688002076811,
     "user": {
      "displayName": "박주경",
      "userId": "06694313831384541311"
     },
     "user_tz": -540
    },
    "id": "a6e4a9d9",
    "outputId": "a8338807-abc2-4a9e-f8cd-e99074927af4"
   },
   "outputs": [
    {
     "name": "stdout",
     "output_type": "stream",
     "text": [
      "1.1.3\n"
     ]
    }
   ],
   "source": [
    "import surprise\n",
    "print(surprise.__version__)"
   ]
  },
  {
   "cell_type": "code",
   "execution_count": null,
   "id": "975babf1",
   "metadata": {
    "id": "975babf1"
   },
   "outputs": [],
   "source": [
    "from surprise import SVD\n",
    "from surprise import Dataset\n",
    "from surprise import accuracy\n",
    "from surprise.model_selection import train_test_split"
   ]
  },
  {
   "cell_type": "code",
   "execution_count": null,
   "id": "xD448zU7ltBk",
   "metadata": {
    "colab": {
     "base_uri": "https://localhost:8080/",
     "height": 424
    },
    "executionInfo": {
     "elapsed": 1745,
     "status": "ok",
     "timestamp": 1688009537649,
     "user": {
      "displayName": "박주경",
      "userId": "06694313831384541311"
     },
     "user_tz": -540
    },
    "id": "xD448zU7ltBk",
    "outputId": "83ce452c-44be-46d4-bd07-6ff97a108bd9"
   },
   "outputs": [
    {
     "data": {
      "text/html": [
       "\n",
       "  <div id=\"df-28d3863b-7eca-4917-a0ef-5ffae77af1b3\">\n",
       "    <div class=\"colab-df-container\">\n",
       "      <div>\n",
       "<style scoped>\n",
       "    .dataframe tbody tr th:only-of-type {\n",
       "        vertical-align: middle;\n",
       "    }\n",
       "\n",
       "    .dataframe tbody tr th {\n",
       "        vertical-align: top;\n",
       "    }\n",
       "\n",
       "    .dataframe thead th {\n",
       "        text-align: right;\n",
       "    }\n",
       "</style>\n",
       "<table border=\"1\" class=\"dataframe\">\n",
       "  <thead>\n",
       "    <tr style=\"text-align: right;\">\n",
       "      <th></th>\n",
       "      <th>고객번호</th>\n",
       "      <th>중분류명</th>\n",
       "      <th>개수</th>\n",
       "    </tr>\n",
       "  </thead>\n",
       "  <tbody>\n",
       "    <tr>\n",
       "      <th>0</th>\n",
       "      <td>00001</td>\n",
       "      <td>가공식품</td>\n",
       "      <td>157</td>\n",
       "    </tr>\n",
       "    <tr>\n",
       "      <th>1</th>\n",
       "      <td>00001</td>\n",
       "      <td>가루</td>\n",
       "      <td>1</td>\n",
       "    </tr>\n",
       "    <tr>\n",
       "      <th>2</th>\n",
       "      <td>00001</td>\n",
       "      <td>가정잡화</td>\n",
       "      <td>1</td>\n",
       "    </tr>\n",
       "    <tr>\n",
       "      <th>3</th>\n",
       "      <td>00001</td>\n",
       "      <td>간식</td>\n",
       "      <td>1</td>\n",
       "    </tr>\n",
       "    <tr>\n",
       "      <th>4</th>\n",
       "      <td>00001</td>\n",
       "      <td>간편조리</td>\n",
       "      <td>2</td>\n",
       "    </tr>\n",
       "    <tr>\n",
       "      <th>...</th>\n",
       "      <td>...</td>\n",
       "      <td>...</td>\n",
       "      <td>...</td>\n",
       "    </tr>\n",
       "    <tr>\n",
       "      <th>3037414</th>\n",
       "      <td>19383</td>\n",
       "      <td>핸드/풋케어</td>\n",
       "      <td>8</td>\n",
       "    </tr>\n",
       "    <tr>\n",
       "      <th>3037415</th>\n",
       "      <td>19383</td>\n",
       "      <td>헤어케어</td>\n",
       "      <td>12</td>\n",
       "    </tr>\n",
       "    <tr>\n",
       "      <th>3037416</th>\n",
       "      <td>19383</td>\n",
       "      <td>화장지/티슈</td>\n",
       "      <td>5</td>\n",
       "    </tr>\n",
       "    <tr>\n",
       "      <th>3037417</th>\n",
       "      <td>19383</td>\n",
       "      <td>화장품</td>\n",
       "      <td>1</td>\n",
       "    </tr>\n",
       "    <tr>\n",
       "      <th>3037418</th>\n",
       "      <td>19383</td>\n",
       "      <td>흰우유</td>\n",
       "      <td>1</td>\n",
       "    </tr>\n",
       "  </tbody>\n",
       "</table>\n",
       "<p>3037419 rows × 3 columns</p>\n",
       "</div>\n",
       "      <button class=\"colab-df-convert\" onclick=\"convertToInteractive('df-28d3863b-7eca-4917-a0ef-5ffae77af1b3')\"\n",
       "              title=\"Convert this dataframe to an interactive table.\"\n",
       "              style=\"display:none;\">\n",
       "        \n",
       "  <svg xmlns=\"http://www.w3.org/2000/svg\" height=\"24px\"viewBox=\"0 0 24 24\"\n",
       "       width=\"24px\">\n",
       "    <path d=\"M0 0h24v24H0V0z\" fill=\"none\"/>\n",
       "    <path d=\"M18.56 5.44l.94 2.06.94-2.06 2.06-.94-2.06-.94-.94-2.06-.94 2.06-2.06.94zm-11 1L8.5 8.5l.94-2.06 2.06-.94-2.06-.94L8.5 2.5l-.94 2.06-2.06.94zm10 10l.94 2.06.94-2.06 2.06-.94-2.06-.94-.94-2.06-.94 2.06-2.06.94z\"/><path d=\"M17.41 7.96l-1.37-1.37c-.4-.4-.92-.59-1.43-.59-.52 0-1.04.2-1.43.59L10.3 9.45l-7.72 7.72c-.78.78-.78 2.05 0 2.83L4 21.41c.39.39.9.59 1.41.59.51 0 1.02-.2 1.41-.59l7.78-7.78 2.81-2.81c.8-.78.8-2.07 0-2.86zM5.41 20L4 18.59l7.72-7.72 1.47 1.35L5.41 20z\"/>\n",
       "  </svg>\n",
       "      </button>\n",
       "      \n",
       "  <style>\n",
       "    .colab-df-container {\n",
       "      display:flex;\n",
       "      flex-wrap:wrap;\n",
       "      gap: 12px;\n",
       "    }\n",
       "\n",
       "    .colab-df-convert {\n",
       "      background-color: #E8F0FE;\n",
       "      border: none;\n",
       "      border-radius: 50%;\n",
       "      cursor: pointer;\n",
       "      display: none;\n",
       "      fill: #1967D2;\n",
       "      height: 32px;\n",
       "      padding: 0 0 0 0;\n",
       "      width: 32px;\n",
       "    }\n",
       "\n",
       "    .colab-df-convert:hover {\n",
       "      background-color: #E2EBFA;\n",
       "      box-shadow: 0px 1px 2px rgba(60, 64, 67, 0.3), 0px 1px 3px 1px rgba(60, 64, 67, 0.15);\n",
       "      fill: #174EA6;\n",
       "    }\n",
       "\n",
       "    [theme=dark] .colab-df-convert {\n",
       "      background-color: #3B4455;\n",
       "      fill: #D2E3FC;\n",
       "    }\n",
       "\n",
       "    [theme=dark] .colab-df-convert:hover {\n",
       "      background-color: #434B5C;\n",
       "      box-shadow: 0px 1px 3px 1px rgba(0, 0, 0, 0.15);\n",
       "      filter: drop-shadow(0px 1px 2px rgba(0, 0, 0, 0.3));\n",
       "      fill: #FFFFFF;\n",
       "    }\n",
       "  </style>\n",
       "\n",
       "      <script>\n",
       "        const buttonEl =\n",
       "          document.querySelector('#df-28d3863b-7eca-4917-a0ef-5ffae77af1b3 button.colab-df-convert');\n",
       "        buttonEl.style.display =\n",
       "          google.colab.kernel.accessAllowed ? 'block' : 'none';\n",
       "\n",
       "        async function convertToInteractive(key) {\n",
       "          const element = document.querySelector('#df-28d3863b-7eca-4917-a0ef-5ffae77af1b3');\n",
       "          const dataTable =\n",
       "            await google.colab.kernel.invokeFunction('convertToInteractive',\n",
       "                                                     [key], {});\n",
       "          if (!dataTable) return;\n",
       "\n",
       "          const docLinkHtml = 'Like what you see? Visit the ' +\n",
       "            '<a target=\"_blank\" href=https://colab.research.google.com/notebooks/data_table.ipynb>data table notebook</a>'\n",
       "            + ' to learn more about interactive tables.';\n",
       "          element.innerHTML = '';\n",
       "          dataTable['output_type'] = 'display_data';\n",
       "          await google.colab.output.renderOutput(dataTable, element);\n",
       "          const docLink = document.createElement('div');\n",
       "          docLink.innerHTML = docLinkHtml;\n",
       "          element.appendChild(docLink);\n",
       "        }\n",
       "      </script>\n",
       "    </div>\n",
       "  </div>\n",
       "  "
      ],
      "text/plain": [
       "          고객번호    중분류명   개수\n",
       "0        00001    가공식품  157\n",
       "1        00001      가루    1\n",
       "2        00001    가정잡화    1\n",
       "3        00001      간식    1\n",
       "4        00001    간편조리    2\n",
       "...        ...     ...  ...\n",
       "3037414  19383  핸드/풋케어    8\n",
       "3037415  19383    헤어케어   12\n",
       "3037416  19383  화장지/티슈    5\n",
       "3037417  19383     화장품    1\n",
       "3037418  19383     흰우유    1\n",
       "\n",
       "[3037419 rows x 3 columns]"
      ]
     },
     "execution_count": 73,
     "metadata": {},
     "output_type": "execute_result"
    }
   ],
   "source": [
    "# 중분류로 할 경우\n",
    "import pandas as pd\n",
    "\n",
    "df_ori = pd.read_pickle('/content/drive/Othercomputers/내 컴퓨터/hmkd1/lmembers 분석/surprise.pkl')\n",
    "df = df_ori.copy()\n",
    "df.drop(['총구매금액', '평균가'], axis=1, inplace=True)\n",
    "df"
   ]
  },
  {
   "cell_type": "code",
   "execution_count": null,
   "id": "de-xA0UfltMC",
   "metadata": {
    "id": "de-xA0UfltMC"
   },
   "outputs": [],
   "source": [
    "# 소분류로 할 경우\n",
    "import pandas as pd\n",
    "\n",
    "df_ori = pd.read_pickle('/content/drive/Othercomputers/내 컴퓨터/hmkd1/lmembers 분석/surprise_s.pkl')"
   ]
  },
  {
   "cell_type": "code",
   "execution_count": null,
   "id": "m1yf817Wr69s",
   "metadata": {
    "colab": {
     "base_uri": "https://localhost:8080/",
     "height": 112
    },
    "executionInfo": {
     "elapsed": 5,
     "status": "ok",
     "timestamp": 1688009542216,
     "user": {
      "displayName": "박주경",
      "userId": "06694313831384541311"
     },
     "user_tz": -540
    },
    "id": "m1yf817Wr69s",
    "outputId": "de8d7d37-7a5e-43cd-fdd2-34e5cfa340ed"
   },
   "outputs": [
    {
     "data": {
      "text/html": [
       "\n",
       "  <div id=\"df-5a0aaf8e-4dc7-4c90-a4a2-647b04228ff1\">\n",
       "    <div class=\"colab-df-container\">\n",
       "      <div>\n",
       "<style scoped>\n",
       "    .dataframe tbody tr th:only-of-type {\n",
       "        vertical-align: middle;\n",
       "    }\n",
       "\n",
       "    .dataframe tbody tr th {\n",
       "        vertical-align: top;\n",
       "    }\n",
       "\n",
       "    .dataframe thead th {\n",
       "        text-align: right;\n",
       "    }\n",
       "</style>\n",
       "<table border=\"1\" class=\"dataframe\">\n",
       "  <thead>\n",
       "    <tr style=\"text-align: right;\">\n",
       "      <th></th>\n",
       "      <th>고객번호</th>\n",
       "      <th>중분류명</th>\n",
       "      <th>개수</th>\n",
       "      <th>총구매금액</th>\n",
       "      <th>평균가</th>\n",
       "    </tr>\n",
       "  </thead>\n",
       "  <tbody>\n",
       "    <tr>\n",
       "      <th>0</th>\n",
       "      <td>1</td>\n",
       "      <td>가공식품</td>\n",
       "      <td>157</td>\n",
       "      <td>2750580</td>\n",
       "      <td>17519.617834</td>\n",
       "    </tr>\n",
       "    <tr>\n",
       "      <th>1</th>\n",
       "      <td>1</td>\n",
       "      <td>가루</td>\n",
       "      <td>1</td>\n",
       "      <td>2950</td>\n",
       "      <td>2950.000000</td>\n",
       "    </tr>\n",
       "  </tbody>\n",
       "</table>\n",
       "</div>\n",
       "      <button class=\"colab-df-convert\" onclick=\"convertToInteractive('df-5a0aaf8e-4dc7-4c90-a4a2-647b04228ff1')\"\n",
       "              title=\"Convert this dataframe to an interactive table.\"\n",
       "              style=\"display:none;\">\n",
       "        \n",
       "  <svg xmlns=\"http://www.w3.org/2000/svg\" height=\"24px\"viewBox=\"0 0 24 24\"\n",
       "       width=\"24px\">\n",
       "    <path d=\"M0 0h24v24H0V0z\" fill=\"none\"/>\n",
       "    <path d=\"M18.56 5.44l.94 2.06.94-2.06 2.06-.94-2.06-.94-.94-2.06-.94 2.06-2.06.94zm-11 1L8.5 8.5l.94-2.06 2.06-.94-2.06-.94L8.5 2.5l-.94 2.06-2.06.94zm10 10l.94 2.06.94-2.06 2.06-.94-2.06-.94-.94-2.06-.94 2.06-2.06.94z\"/><path d=\"M17.41 7.96l-1.37-1.37c-.4-.4-.92-.59-1.43-.59-.52 0-1.04.2-1.43.59L10.3 9.45l-7.72 7.72c-.78.78-.78 2.05 0 2.83L4 21.41c.39.39.9.59 1.41.59.51 0 1.02-.2 1.41-.59l7.78-7.78 2.81-2.81c.8-.78.8-2.07 0-2.86zM5.41 20L4 18.59l7.72-7.72 1.47 1.35L5.41 20z\"/>\n",
       "  </svg>\n",
       "      </button>\n",
       "      \n",
       "  <style>\n",
       "    .colab-df-container {\n",
       "      display:flex;\n",
       "      flex-wrap:wrap;\n",
       "      gap: 12px;\n",
       "    }\n",
       "\n",
       "    .colab-df-convert {\n",
       "      background-color: #E8F0FE;\n",
       "      border: none;\n",
       "      border-radius: 50%;\n",
       "      cursor: pointer;\n",
       "      display: none;\n",
       "      fill: #1967D2;\n",
       "      height: 32px;\n",
       "      padding: 0 0 0 0;\n",
       "      width: 32px;\n",
       "    }\n",
       "\n",
       "    .colab-df-convert:hover {\n",
       "      background-color: #E2EBFA;\n",
       "      box-shadow: 0px 1px 2px rgba(60, 64, 67, 0.3), 0px 1px 3px 1px rgba(60, 64, 67, 0.15);\n",
       "      fill: #174EA6;\n",
       "    }\n",
       "\n",
       "    [theme=dark] .colab-df-convert {\n",
       "      background-color: #3B4455;\n",
       "      fill: #D2E3FC;\n",
       "    }\n",
       "\n",
       "    [theme=dark] .colab-df-convert:hover {\n",
       "      background-color: #434B5C;\n",
       "      box-shadow: 0px 1px 3px 1px rgba(0, 0, 0, 0.15);\n",
       "      filter: drop-shadow(0px 1px 2px rgba(0, 0, 0, 0.3));\n",
       "      fill: #FFFFFF;\n",
       "    }\n",
       "  </style>\n",
       "\n",
       "      <script>\n",
       "        const buttonEl =\n",
       "          document.querySelector('#df-5a0aaf8e-4dc7-4c90-a4a2-647b04228ff1 button.colab-df-convert');\n",
       "        buttonEl.style.display =\n",
       "          google.colab.kernel.accessAllowed ? 'block' : 'none';\n",
       "\n",
       "        async function convertToInteractive(key) {\n",
       "          const element = document.querySelector('#df-5a0aaf8e-4dc7-4c90-a4a2-647b04228ff1');\n",
       "          const dataTable =\n",
       "            await google.colab.kernel.invokeFunction('convertToInteractive',\n",
       "                                                     [key], {});\n",
       "          if (!dataTable) return;\n",
       "\n",
       "          const docLinkHtml = 'Like what you see? Visit the ' +\n",
       "            '<a target=\"_blank\" href=https://colab.research.google.com/notebooks/data_table.ipynb>data table notebook</a>'\n",
       "            + ' to learn more about interactive tables.';\n",
       "          element.innerHTML = '';\n",
       "          dataTable['output_type'] = 'display_data';\n",
       "          await google.colab.output.renderOutput(dataTable, element);\n",
       "          const docLink = document.createElement('div');\n",
       "          docLink.innerHTML = docLinkHtml;\n",
       "          element.appendChild(docLink);\n",
       "        }\n",
       "      </script>\n",
       "    </div>\n",
       "  </div>\n",
       "  "
      ],
      "text/plain": [
       "   고객번호  중분류명   개수    총구매금액           평균가\n",
       "0     1  가공식품  157  2750580  17519.617834\n",
       "1     1    가루    1     2950   2950.000000"
      ]
     },
     "execution_count": 74,
     "metadata": {},
     "output_type": "execute_result"
    }
   ],
   "source": [
    "df = df_ori.copy()\n",
    "df.고객번호 = df.고객번호.astype(int)\n",
    "df.head(2)"
   ]
  },
  {
   "cell_type": "code",
   "execution_count": null,
   "id": "ZWmC2_8bDDn9",
   "metadata": {
    "id": "ZWmC2_8bDDn9"
   },
   "outputs": [],
   "source": [
    "x = master_c0['고객번호'].tolist()\n",
    "y = master_c1['고객번호'].tolist()\n",
    "z = master_c2['고객번호'].tolist()"
   ]
  },
  {
   "cell_type": "code",
   "execution_count": null,
   "id": "2sESkaItDF0e",
   "metadata": {
    "id": "2sESkaItDF0e"
   },
   "outputs": [],
   "source": [
    "df_0=df[df['고객번호'].isin(x)]\n",
    "df_1=df[df['고객번호'].isin(y)]\n",
    "df_2=df[df['고객번호'].isin(z)]"
   ]
  },
  {
   "cell_type": "code",
   "execution_count": null,
   "id": "dRBwJcUOJnxu",
   "metadata": {
    "colab": {
     "base_uri": "https://localhost:8080/",
     "height": 443
    },
    "executionInfo": {
     "elapsed": 6,
     "status": "ok",
     "timestamp": 1688009548439,
     "user": {
      "displayName": "박주경",
      "userId": "06694313831384541311"
     },
     "user_tz": -540
    },
    "id": "dRBwJcUOJnxu",
    "outputId": "bfaf8370-e835-4bc8-ed3e-bba5419e24f2"
   },
   "outputs": [
    {
     "name": "stderr",
     "output_type": "stream",
     "text": [
      "<ipython-input-77-4224c8be349c>:7: SettingWithCopyWarning: \n",
      "A value is trying to be set on a copy of a slice from a DataFrame.\n",
      "Try using .loc[row_indexer,col_indexer] = value instead\n",
      "\n",
      "See the caveats in the documentation: https://pandas.pydata.org/pandas-docs/stable/user_guide/indexing.html#returning-a-view-versus-a-copy\n",
      "  df_0['개수_scaled'] = scaled_count\n",
      "<ipython-input-77-4224c8be349c>:8: SettingWithCopyWarning: \n",
      "A value is trying to be set on a copy of a slice from a DataFrame.\n",
      "Try using .loc[row_indexer,col_indexer] = value instead\n",
      "\n",
      "See the caveats in the documentation: https://pandas.pydata.org/pandas-docs/stable/user_guide/indexing.html#returning-a-view-versus-a-copy\n",
      "  df_0['평균가_scaled'] = scaled_mean_price\n",
      "<ipython-input-77-4224c8be349c>:9: SettingWithCopyWarning: \n",
      "A value is trying to be set on a copy of a slice from a DataFrame.\n",
      "Try using .loc[row_indexer,col_indexer] = value instead\n",
      "\n",
      "See the caveats in the documentation: https://pandas.pydata.org/pandas-docs/stable/user_guide/indexing.html#returning-a-view-versus-a-copy\n",
      "  df_0['합계'] = df_0['개수_scaled'] + df_0['평균가_scaled']\n"
     ]
    },
    {
     "data": {
      "text/html": [
       "\n",
       "  <div id=\"df-b73be385-47b5-4850-8484-69db10276fba\">\n",
       "    <div class=\"colab-df-container\">\n",
       "      <div>\n",
       "<style scoped>\n",
       "    .dataframe tbody tr th:only-of-type {\n",
       "        vertical-align: middle;\n",
       "    }\n",
       "\n",
       "    .dataframe tbody tr th {\n",
       "        vertical-align: top;\n",
       "    }\n",
       "\n",
       "    .dataframe thead th {\n",
       "        text-align: right;\n",
       "    }\n",
       "</style>\n",
       "<table border=\"1\" class=\"dataframe\">\n",
       "  <thead>\n",
       "    <tr style=\"text-align: right;\">\n",
       "      <th></th>\n",
       "      <th>고객번호</th>\n",
       "      <th>중분류명</th>\n",
       "      <th>개수</th>\n",
       "    </tr>\n",
       "  </thead>\n",
       "  <tbody>\n",
       "    <tr>\n",
       "      <th>611</th>\n",
       "      <td>7</td>\n",
       "      <td>LOCAL잎채소</td>\n",
       "      <td>1</td>\n",
       "    </tr>\n",
       "    <tr>\n",
       "      <th>612</th>\n",
       "      <td>7</td>\n",
       "      <td>NB구두</td>\n",
       "      <td>1</td>\n",
       "    </tr>\n",
       "  </tbody>\n",
       "</table>\n",
       "</div>\n",
       "      <button class=\"colab-df-convert\" onclick=\"convertToInteractive('df-b73be385-47b5-4850-8484-69db10276fba')\"\n",
       "              title=\"Convert this dataframe to an interactive table.\"\n",
       "              style=\"display:none;\">\n",
       "        \n",
       "  <svg xmlns=\"http://www.w3.org/2000/svg\" height=\"24px\"viewBox=\"0 0 24 24\"\n",
       "       width=\"24px\">\n",
       "    <path d=\"M0 0h24v24H0V0z\" fill=\"none\"/>\n",
       "    <path d=\"M18.56 5.44l.94 2.06.94-2.06 2.06-.94-2.06-.94-.94-2.06-.94 2.06-2.06.94zm-11 1L8.5 8.5l.94-2.06 2.06-.94-2.06-.94L8.5 2.5l-.94 2.06-2.06.94zm10 10l.94 2.06.94-2.06 2.06-.94-2.06-.94-.94-2.06-.94 2.06-2.06.94z\"/><path d=\"M17.41 7.96l-1.37-1.37c-.4-.4-.92-.59-1.43-.59-.52 0-1.04.2-1.43.59L10.3 9.45l-7.72 7.72c-.78.78-.78 2.05 0 2.83L4 21.41c.39.39.9.59 1.41.59.51 0 1.02-.2 1.41-.59l7.78-7.78 2.81-2.81c.8-.78.8-2.07 0-2.86zM5.41 20L4 18.59l7.72-7.72 1.47 1.35L5.41 20z\"/>\n",
       "  </svg>\n",
       "      </button>\n",
       "      \n",
       "  <style>\n",
       "    .colab-df-container {\n",
       "      display:flex;\n",
       "      flex-wrap:wrap;\n",
       "      gap: 12px;\n",
       "    }\n",
       "\n",
       "    .colab-df-convert {\n",
       "      background-color: #E8F0FE;\n",
       "      border: none;\n",
       "      border-radius: 50%;\n",
       "      cursor: pointer;\n",
       "      display: none;\n",
       "      fill: #1967D2;\n",
       "      height: 32px;\n",
       "      padding: 0 0 0 0;\n",
       "      width: 32px;\n",
       "    }\n",
       "\n",
       "    .colab-df-convert:hover {\n",
       "      background-color: #E2EBFA;\n",
       "      box-shadow: 0px 1px 2px rgba(60, 64, 67, 0.3), 0px 1px 3px 1px rgba(60, 64, 67, 0.15);\n",
       "      fill: #174EA6;\n",
       "    }\n",
       "\n",
       "    [theme=dark] .colab-df-convert {\n",
       "      background-color: #3B4455;\n",
       "      fill: #D2E3FC;\n",
       "    }\n",
       "\n",
       "    [theme=dark] .colab-df-convert:hover {\n",
       "      background-color: #434B5C;\n",
       "      box-shadow: 0px 1px 3px 1px rgba(0, 0, 0, 0.15);\n",
       "      filter: drop-shadow(0px 1px 2px rgba(0, 0, 0, 0.3));\n",
       "      fill: #FFFFFF;\n",
       "    }\n",
       "  </style>\n",
       "\n",
       "      <script>\n",
       "        const buttonEl =\n",
       "          document.querySelector('#df-b73be385-47b5-4850-8484-69db10276fba button.colab-df-convert');\n",
       "        buttonEl.style.display =\n",
       "          google.colab.kernel.accessAllowed ? 'block' : 'none';\n",
       "\n",
       "        async function convertToInteractive(key) {\n",
       "          const element = document.querySelector('#df-b73be385-47b5-4850-8484-69db10276fba');\n",
       "          const dataTable =\n",
       "            await google.colab.kernel.invokeFunction('convertToInteractive',\n",
       "                                                     [key], {});\n",
       "          if (!dataTable) return;\n",
       "\n",
       "          const docLinkHtml = 'Like what you see? Visit the ' +\n",
       "            '<a target=\"_blank\" href=https://colab.research.google.com/notebooks/data_table.ipynb>data table notebook</a>'\n",
       "            + ' to learn more about interactive tables.';\n",
       "          element.innerHTML = '';\n",
       "          dataTable['output_type'] = 'display_data';\n",
       "          await google.colab.output.renderOutput(dataTable, element);\n",
       "          const docLink = document.createElement('div');\n",
       "          docLink.innerHTML = docLinkHtml;\n",
       "          element.appendChild(docLink);\n",
       "        }\n",
       "      </script>\n",
       "    </div>\n",
       "  </div>\n",
       "  "
      ],
      "text/plain": [
       "     고객번호      중분류명  개수\n",
       "611     7  LOCAL잎채소   1\n",
       "612     7      NB구두   1"
      ]
     },
     "execution_count": 77,
     "metadata": {},
     "output_type": "execute_result"
    }
   ],
   "source": [
    "from sklearn.preprocessing import MinMaxScaler\n",
    "\n",
    "scaler = MinMaxScaler()\n",
    "scaled_count = scaler.fit_transform(df_0[['개수']])\n",
    "scaled_mean_price = scaler.fit_transform(df_0[['평균가']])\n",
    "\n",
    "df_0['개수_scaled'] = scaled_count\n",
    "df_0['평균가_scaled'] = scaled_mean_price\n",
    "df_0['합계'] = df_0['개수_scaled'] + df_0['평균가_scaled']\n",
    "\n",
    "df_0 = df_0[['고객번호', '중분류명', '개수']]\n",
    "df_0.head(2)"
   ]
  },
  {
   "cell_type": "code",
   "execution_count": null,
   "id": "ToUAsS3wZejb",
   "metadata": {
    "id": "ToUAsS3wZejb"
   },
   "outputs": [],
   "source": [
    "import pandas as pd\n",
    "from surprise import SVD\n",
    "from surprise import SVDpp\n",
    "from surprise import KNNBasic\n",
    "from surprise import KNNBaseline\n",
    "from surprise import Dataset\n",
    "from surprise import Reader\n",
    "from surprise.model_selection import train_test_split\n",
    "from surprise import accuracy\n",
    "from surprise import get_dataset_dir\n",
    "\n",
    "def recomm_product_by_surprise(algo, userId, df_for_surprise, top_n=10):\n",
    "    # Surprise 데이터셋 생성을 위한 Reader 객체 생성\n",
    "    reader = Reader(rating_scale=(0, df_for_surprise['개수'].max()))\n",
    "\n",
    "    # Surprise 데이터셋 생성\n",
    "    data = Dataset.load_from_df(df_for_surprise[['고객번호', '중분류명', '개수']], reader)\n",
    "\n",
    "    # 데이터셋을 학습용과 테스트용으로 분할\n",
    "    trainset, _ = train_test_split(data, test_size=0.25, random_state=42)\n",
    "\n",
    "    # 학습 데이터셋으로 알고리즘 학습\n",
    "    algo.fit(trainset)\n",
    "\n",
    "    # 특정 사용자에게 상품 추천\n",
    "    testset = trainset.build_anti_testset()\n",
    "    testset = [t for t in testset if t[0] == userId]\n",
    "    predictions = algo.test(testset)\n",
    "\n",
    "    # 예측 결과 정렬하여 상위 상품 추출\n",
    "    top_predictions = sorted(predictions, key=lambda x: x.est, reverse=True)[:top_n]\n",
    "\n",
    "    # 추천 상품 정보 출력\n",
    "    recommended_products = []\n",
    "    for prediction in top_predictions:\n",
    "        recommended_products.append(prediction[1])\n",
    "\n",
    "    return recommended_products\n"
   ]
  },
  {
   "cell_type": "code",
   "execution_count": null,
   "id": "VwqmjAK-FHEa",
   "metadata": {
    "colab": {
     "base_uri": "https://localhost:8080/"
    },
    "executionInfo": {
     "elapsed": 7757,
     "status": "ok",
     "timestamp": 1688009572977,
     "user": {
      "displayName": "박주경",
      "userId": "06694313831384541311"
     },
     "user_tz": -540
    },
    "id": "VwqmjAK-FHEa",
    "outputId": "90577fce-3b54-420c-bed9-5480f36f02c9"
   },
   "outputs": [
    {
     "data": {
      "text/plain": [
       "['즉석식품', '냉동만두', '두부', '안전용품', '흰우유', '위생용품', '단무지류', '편의시설', '브랜드빵', '헬스용품']"
      ]
     },
     "execution_count": 79,
     "metadata": {},
     "output_type": "execute_result"
    }
   ],
   "source": [
    "# algo = SVD(n_epochs=20, random_state=0)\n",
    "algo = SVD(random_state=0)\n",
    "recomm_product_by_surprise(algo, 7, df_0, top_n=10)"
   ]
  },
  {
   "cell_type": "code",
   "execution_count": null,
   "id": "iR4cu57R5A7o",
   "metadata": {
    "colab": {
     "base_uri": "https://localhost:8080/"
    },
    "executionInfo": {
     "elapsed": 32954,
     "status": "ok",
     "timestamp": 1688009793219,
     "user": {
      "displayName": "박주경",
      "userId": "06694313831384541311"
     },
     "user_tz": -540
    },
    "id": "iR4cu57R5A7o",
    "outputId": "82f59a13-5afc-44e3-97fe-c9b0f48f9368"
   },
   "outputs": [
    {
     "name": "stdout",
     "output_type": "stream",
     "text": [
      "Computing the msd similarity matrix...\n",
      "Done computing similarity matrix.\n"
     ]
    },
    {
     "data": {
      "text/plain": [
       "['과자', '주유소', '흰우유', '음료', '스낵', '주류', '구강케어', '라면', '문구/팬시', '여성용품']"
      ]
     },
     "execution_count": 80,
     "metadata": {},
     "output_type": "execute_result"
    }
   ],
   "source": [
    "algo = KNNBasic(random_state=0)\n",
    "recomm_product_by_surprise(algo, 7, df_0, top_n=10)"
   ]
  },
  {
   "cell_type": "code",
   "execution_count": null,
   "id": "tJ3ApW5kKjlE",
   "metadata": {
    "colab": {
     "base_uri": "https://localhost:8080/"
    },
    "executionInfo": {
     "elapsed": 97805,
     "status": "ok",
     "timestamp": 1688009895077,
     "user": {
      "displayName": "박주경",
      "userId": "06694313831384541311"
     },
     "user_tz": -540
    },
    "id": "tJ3ApW5kKjlE",
    "outputId": "19d26e7d-7d37-4793-b102-2560a422ea18"
   },
   "outputs": [
    {
     "data": {
      "text/plain": [
       "['즉석식품', '냉동만두', '두부', '안전용품', '흰우유', '위생용품', '단무지류', '편의시설', '브랜드빵', '헬스용품']"
      ]
     },
     "execution_count": 81,
     "metadata": {},
     "output_type": "execute_result"
    }
   ],
   "source": [
    "algo = SVDpp(random_state=0)\n",
    "recomm_product_by_surprise(algo, 7, df_0, top_n=10)"
   ]
  },
  {
   "cell_type": "code",
   "execution_count": null,
   "id": "db5maR1GLVl-",
   "metadata": {
    "colab": {
     "base_uri": "https://localhost:8080/"
    },
    "executionInfo": {
     "elapsed": 33969,
     "status": "ok",
     "timestamp": 1688010020601,
     "user": {
      "displayName": "박주경",
      "userId": "06694313831384541311"
     },
     "user_tz": -540
    },
    "id": "db5maR1GLVl-",
    "outputId": "0a28f622-e5ad-4fe6-f822-28d3d3907bcb"
   },
   "outputs": [
    {
     "name": "stdout",
     "output_type": "stream",
     "text": [
      "Estimating biases using als...\n",
      "Computing the msd similarity matrix...\n",
      "Done computing similarity matrix.\n"
     ]
    },
    {
     "data": {
      "text/plain": [
       "['과자', '주유소', '흰우유', '주류', '스낵', '음료', '라면', '문구/팬시', '구강케어', '비스켓']"
      ]
     },
     "execution_count": 82,
     "metadata": {},
     "output_type": "execute_result"
    }
   ],
   "source": [
    "algo = KNNBaseline(random_state=0)\n",
    "recomm_product_by_surprise(algo, 7, df_0, top_n=10)"
   ]
  },
  {
   "cell_type": "code",
   "execution_count": null,
   "id": "mlec9IbLLX42",
   "metadata": {
    "id": "mlec9IbLLX42"
   },
   "outputs": [],
   "source": []
  },
  {
   "cell_type": "code",
   "execution_count": null,
   "id": "5K9rqizmLX7E",
   "metadata": {
    "id": "5K9rqizmLX7E"
   },
   "outputs": [],
   "source": []
  },
  {
   "cell_type": "code",
   "execution_count": null,
   "id": "SUVfzscUwqQo",
   "metadata": {
    "colab": {
     "base_uri": "https://localhost:8080/",
     "height": 424
    },
    "executionInfo": {
     "elapsed": 537,
     "status": "ok",
     "timestamp": 1688002117356,
     "user": {
      "displayName": "박주경",
      "userId": "06694313831384541311"
     },
     "user_tz": -540
    },
    "id": "SUVfzscUwqQo",
    "outputId": "f8ce1255-d7a3-49aa-ebb7-3943fbeff7d0"
   },
   "outputs": [
    {
     "data": {
      "text/html": [
       "\n",
       "  <div id=\"df-f1136c81-ca94-464d-a5c1-76f640a5543d\">\n",
       "    <div class=\"colab-df-container\">\n",
       "      <div>\n",
       "<style scoped>\n",
       "    .dataframe tbody tr th:only-of-type {\n",
       "        vertical-align: middle;\n",
       "    }\n",
       "\n",
       "    .dataframe tbody tr th {\n",
       "        vertical-align: top;\n",
       "    }\n",
       "\n",
       "    .dataframe thead th {\n",
       "        text-align: right;\n",
       "    }\n",
       "</style>\n",
       "<table border=\"1\" class=\"dataframe\">\n",
       "  <thead>\n",
       "    <tr style=\"text-align: right;\">\n",
       "      <th></th>\n",
       "      <th>고객번호</th>\n",
       "      <th>소분류명</th>\n",
       "      <th>합계</th>\n",
       "    </tr>\n",
       "  </thead>\n",
       "  <tbody>\n",
       "    <tr>\n",
       "      <th>1448</th>\n",
       "      <td>00007</td>\n",
       "      <td>청과</td>\n",
       "      <td>0.048385</td>\n",
       "    </tr>\n",
       "    <tr>\n",
       "      <th>1484</th>\n",
       "      <td>00007</td>\n",
       "      <td>한식델리</td>\n",
       "      <td>0.045557</td>\n",
       "    </tr>\n",
       "    <tr>\n",
       "      <th>1327</th>\n",
       "      <td>00007</td>\n",
       "      <td>브랑제리</td>\n",
       "      <td>0.044135</td>\n",
       "    </tr>\n",
       "    <tr>\n",
       "      <th>1366</th>\n",
       "      <td>00007</td>\n",
       "      <td>숙녀고정행사</td>\n",
       "      <td>0.039713</td>\n",
       "    </tr>\n",
       "    <tr>\n",
       "      <th>1372</th>\n",
       "      <td>00007</td>\n",
       "      <td>시니어</td>\n",
       "      <td>0.032240</td>\n",
       "    </tr>\n",
       "    <tr>\n",
       "      <th>...</th>\n",
       "      <td>...</td>\n",
       "      <td>...</td>\n",
       "      <td>...</td>\n",
       "    </tr>\n",
       "    <tr>\n",
       "      <th>1303</th>\n",
       "      <td>00007</td>\n",
       "      <td>마시는요구르트</td>\n",
       "      <td>0.000014</td>\n",
       "    </tr>\n",
       "    <tr>\n",
       "      <th>1490</th>\n",
       "      <td>00007</td>\n",
       "      <td>혼합탄산</td>\n",
       "      <td>0.000014</td>\n",
       "    </tr>\n",
       "    <tr>\n",
       "      <th>1277</th>\n",
       "      <td>00007</td>\n",
       "      <td>냉장면</td>\n",
       "      <td>0.000014</td>\n",
       "    </tr>\n",
       "    <tr>\n",
       "      <th>1364</th>\n",
       "      <td>00007</td>\n",
       "      <td>수입콩나물</td>\n",
       "      <td>0.000014</td>\n",
       "    </tr>\n",
       "    <tr>\n",
       "      <th>1339</th>\n",
       "      <td>00007</td>\n",
       "      <td>생수</td>\n",
       "      <td>0.000010</td>\n",
       "    </tr>\n",
       "  </tbody>\n",
       "</table>\n",
       "<p>264 rows × 3 columns</p>\n",
       "</div>\n",
       "      <button class=\"colab-df-convert\" onclick=\"convertToInteractive('df-f1136c81-ca94-464d-a5c1-76f640a5543d')\"\n",
       "              title=\"Convert this dataframe to an interactive table.\"\n",
       "              style=\"display:none;\">\n",
       "        \n",
       "  <svg xmlns=\"http://www.w3.org/2000/svg\" height=\"24px\"viewBox=\"0 0 24 24\"\n",
       "       width=\"24px\">\n",
       "    <path d=\"M0 0h24v24H0V0z\" fill=\"none\"/>\n",
       "    <path d=\"M18.56 5.44l.94 2.06.94-2.06 2.06-.94-2.06-.94-.94-2.06-.94 2.06-2.06.94zm-11 1L8.5 8.5l.94-2.06 2.06-.94-2.06-.94L8.5 2.5l-.94 2.06-2.06.94zm10 10l.94 2.06.94-2.06 2.06-.94-2.06-.94-.94-2.06-.94 2.06-2.06.94z\"/><path d=\"M17.41 7.96l-1.37-1.37c-.4-.4-.92-.59-1.43-.59-.52 0-1.04.2-1.43.59L10.3 9.45l-7.72 7.72c-.78.78-.78 2.05 0 2.83L4 21.41c.39.39.9.59 1.41.59.51 0 1.02-.2 1.41-.59l7.78-7.78 2.81-2.81c.8-.78.8-2.07 0-2.86zM5.41 20L4 18.59l7.72-7.72 1.47 1.35L5.41 20z\"/>\n",
       "  </svg>\n",
       "      </button>\n",
       "      \n",
       "  <style>\n",
       "    .colab-df-container {\n",
       "      display:flex;\n",
       "      flex-wrap:wrap;\n",
       "      gap: 12px;\n",
       "    }\n",
       "\n",
       "    .colab-df-convert {\n",
       "      background-color: #E8F0FE;\n",
       "      border: none;\n",
       "      border-radius: 50%;\n",
       "      cursor: pointer;\n",
       "      display: none;\n",
       "      fill: #1967D2;\n",
       "      height: 32px;\n",
       "      padding: 0 0 0 0;\n",
       "      width: 32px;\n",
       "    }\n",
       "\n",
       "    .colab-df-convert:hover {\n",
       "      background-color: #E2EBFA;\n",
       "      box-shadow: 0px 1px 2px rgba(60, 64, 67, 0.3), 0px 1px 3px 1px rgba(60, 64, 67, 0.15);\n",
       "      fill: #174EA6;\n",
       "    }\n",
       "\n",
       "    [theme=dark] .colab-df-convert {\n",
       "      background-color: #3B4455;\n",
       "      fill: #D2E3FC;\n",
       "    }\n",
       "\n",
       "    [theme=dark] .colab-df-convert:hover {\n",
       "      background-color: #434B5C;\n",
       "      box-shadow: 0px 1px 3px 1px rgba(0, 0, 0, 0.15);\n",
       "      filter: drop-shadow(0px 1px 2px rgba(0, 0, 0, 0.3));\n",
       "      fill: #FFFFFF;\n",
       "    }\n",
       "  </style>\n",
       "\n",
       "      <script>\n",
       "        const buttonEl =\n",
       "          document.querySelector('#df-f1136c81-ca94-464d-a5c1-76f640a5543d button.colab-df-convert');\n",
       "        buttonEl.style.display =\n",
       "          google.colab.kernel.accessAllowed ? 'block' : 'none';\n",
       "\n",
       "        async function convertToInteractive(key) {\n",
       "          const element = document.querySelector('#df-f1136c81-ca94-464d-a5c1-76f640a5543d');\n",
       "          const dataTable =\n",
       "            await google.colab.kernel.invokeFunction('convertToInteractive',\n",
       "                                                     [key], {});\n",
       "          if (!dataTable) return;\n",
       "\n",
       "          const docLinkHtml = 'Like what you see? Visit the ' +\n",
       "            '<a target=\"_blank\" href=https://colab.research.google.com/notebooks/data_table.ipynb>data table notebook</a>'\n",
       "            + ' to learn more about interactive tables.';\n",
       "          element.innerHTML = '';\n",
       "          dataTable['output_type'] = 'display_data';\n",
       "          await google.colab.output.renderOutput(dataTable, element);\n",
       "          const docLink = document.createElement('div');\n",
       "          docLink.innerHTML = docLinkHtml;\n",
       "          element.appendChild(docLink);\n",
       "        }\n",
       "      </script>\n",
       "    </div>\n",
       "  </div>\n",
       "  "
      ],
      "text/plain": [
       "       고객번호     소분류명        합계\n",
       "1448  00007       청과  0.048385\n",
       "1484  00007     한식델리  0.045557\n",
       "1327  00007     브랑제리  0.044135\n",
       "1366  00007   숙녀고정행사  0.039713\n",
       "1372  00007      시니어  0.032240\n",
       "...     ...      ...       ...\n",
       "1303  00007  마시는요구르트  0.000014\n",
       "1490  00007     혼합탄산  0.000014\n",
       "1277  00007      냉장면  0.000014\n",
       "1364  00007    수입콩나물  0.000014\n",
       "1339  00007       생수  0.000010\n",
       "\n",
       "[264 rows x 3 columns]"
      ]
     },
     "execution_count": 12,
     "metadata": {},
     "output_type": "execute_result"
    }
   ],
   "source": [
    "df[df.고객번호 == 7].sort_values(by='합계', ascending=False)"
   ]
  },
  {
   "cell_type": "code",
   "execution_count": null,
   "id": "mz9yfv-bGJbF",
   "metadata": {
    "id": "mz9yfv-bGJbF"
   },
   "outputs": [],
   "source": [
    "from surprise.model_selection import GridSearchCV\n",
    "\n",
    "reader = Reader(rating_scale=(0, df_0['개수'].max()))\n",
    "data = Dataset.load_from_df(df_0[['고객번호', '중분류명', '개수']], reader)\n",
    "\n",
    "# 최적화할 파라미터를 딕셔너리 형태로 지정.\n",
    "param_grid = {'n_epochs': [20, 40, 60], 'n_factors': [50, 100, 200] }\n",
    "\n",
    "# CV를 3개 폴드 세트로 지정, 성능 평가는 rmse, mse로 수행하도록 GridSearchCV 구성\n",
    "gs = GridSearchCV(SVDpp, param_grid, measures=['rmse', 'mae'], cv=3)\n",
    "gs.fit(data)\n",
    "\n",
    "# 최고 RMSE Evaluation 점수와 그때의 하이퍼 파라미터\n",
    "print(gs.best_score['rmse'])\n",
    "print(gs.best_params['rmse'])"
   ]
  },
  {
   "cell_type": "code",
   "execution_count": null,
   "id": "futT1w7axw6Z",
   "metadata": {
    "colab": {
     "base_uri": "https://localhost:8080/"
    },
    "executionInfo": {
     "elapsed": 504510,
     "status": "ok",
     "timestamp": 1688003447253,
     "user": {
      "displayName": "박주경",
      "userId": "06694313831384541311"
     },
     "user_tz": -540
    },
    "id": "futT1w7axw6Z",
    "outputId": "0f743645-43dd-47c9-98b1-0bb93a3952fc"
   },
   "outputs": [
    {
     "name": "stdout",
     "output_type": "stream",
     "text": [
      "Evaluating RMSE, MAE of algorithm SVD on 5 split(s).\n",
      "\n",
      "                  Fold 1  Fold 2  Fold 3  Fold 4  Fold 5  Mean    Std     \n",
      "RMSE (testset)    0.0145  0.0145  0.0145  0.0145  0.0147  0.0145  0.0001  \n",
      "MAE (testset)     0.0062  0.0062  0.0061  0.0061  0.0062  0.0062  0.0000  \n",
      "Fit time          65.70   68.65   69.44   68.79   68.74   68.26   1.31    \n",
      "Test time         21.87   17.73   16.60   17.81   20.33   18.87   1.93    \n"
     ]
    },
    {
     "data": {
      "text/plain": [
       "{'test_rmse': array([0.01445143, 0.01447852, 0.01449379, 0.0144612 , 0.01470431]),\n",
       " 'test_mae': array([0.00616803, 0.00617471, 0.00614268, 0.00614975, 0.00617552]),\n",
       " 'fit_time': (65.70393109321594,\n",
       "  68.65142488479614,\n",
       "  69.44053411483765,\n",
       "  68.78543329238892,\n",
       "  68.73663663864136),\n",
       " 'test_time': (21.87056851387024,\n",
       "  17.73251175880432,\n",
       "  16.603623390197754,\n",
       "  17.810500621795654,\n",
       "  20.325324296951294)}"
      ]
     },
     "execution_count": 17,
     "metadata": {},
     "output_type": "execute_result"
    }
   ],
   "source": [
    "# 8분 24초\n",
    "\n",
    "import pandas as pd\n",
    "from surprise import Reader, Dataset\n",
    "from surprise.model_selection import cross_validate\n",
    "\n",
    "# reader = Reader(rating_scale=(0.5, 5.0))\n",
    "reader = Reader(rating_scale=(0, 1))\n",
    "data = Dataset.load_from_df(df[['고객번호', '소분류명', '합계']], reader)\n",
    "\n",
    "algo = SVD(random_state=0)\n",
    "cross_validate(algo, data, measures=['RMSE', 'MAE'], cv=5, verbose=True)"
   ]
  },
  {
   "cell_type": "code",
   "execution_count": null,
   "id": "M40IN40xRZsF",
   "metadata": {
    "id": "M40IN40xRZsF"
   },
   "outputs": [],
   "source": [
    "# # DatasetAutoFolds - 데이터 세트 전체를 학습 데이터로 사용하게 해 줌\n",
    "# # build_full_trainset() - 위의 클래스로 객체를 생성한 뒤, 이 메서드를 호출하면 전체 데이터를\n",
    "# # 학습 데이터 세트로 만들 수 있음\n",
    "\n",
    "# from surprise.dataset import DatasetAutoFolds\n",
    "\n",
    "# reader = Reader(line_format='user item rating timestamp', sep=',', rating_scale=(0.5, 5))\n",
    "# # DatasetAutoFolds 클래스를 ratings_noh.csv 파일 기반으로 생성.\n",
    "# df_for_surprise.to_csv('/content/drive/Othercomputers/내 컴퓨터/hmkd1/dataset/ml-latest-small/df_for_surprise.csv', index=False, header=False)\n",
    "# data_folds = DatasetAutoFolds(ratings_file='/content/drive/Othercomputers/내 컴퓨터/hmkd1/dataset/ml-latest-small/df_for_surprise.csv', reader=reader)\n",
    "\n",
    "# #전체 데이터를 학습데이터로 생성함.\n",
    "# trainset = data_folds.build_full_trainset()"
   ]
  },
  {
   "cell_type": "code",
   "execution_count": null,
   "id": "ZOBq760XU2Xz",
   "metadata": {
    "colab": {
     "base_uri": "https://localhost:8080/",
     "height": 174
    },
    "executionInfo": {
     "elapsed": 13,
     "status": "error",
     "timestamp": 1687945012235,
     "user": {
      "displayName": "박주경",
      "userId": "06694313831384541311"
     },
     "user_tz": -540
    },
    "id": "ZOBq760XU2Xz",
    "outputId": "582a33aa-3505-4559-9bea-824f2f1b0049"
   },
   "outputs": [
    {
     "ename": "NameError",
     "evalue": "ignored",
     "output_type": "error",
     "traceback": [
      "\u001b[0;31m---------------------------------------------------------------------------\u001b[0m",
      "\u001b[0;31mNameError\u001b[0m                                 Traceback (most recent call last)",
      "\u001b[0;32m<ipython-input-37-8859cdb66fd8>\u001b[0m in \u001b[0;36m<cell line: 1>\u001b[0;34m()\u001b[0m\n\u001b[0;32m----> 1\u001b[0;31m \u001b[0muid\u001b[0m\u001b[0;34m\u001b[0m\u001b[0;34m\u001b[0m\u001b[0m\n\u001b[0m",
      "\u001b[0;31mNameError\u001b[0m: name 'uid' is not defined"
     ]
    }
   ],
   "source": [
    "# # 추천 대상 영화 list\n",
    "# # [Prediction(uid='9', iid='1', r_ui=None, est=3.6398015009715396, details={'was_impossible': False}),\n",
    "# #  Prediction(uid='9', iid='2', r_ui=None, est=3.0708535569743463, details={'was_impossible': False}),...]\n",
    "\n",
    "# def recomm_movie_by_surprise(algo, userId, unseen_movies, top_n=10):\n",
    "#     # 알고리즘 객체의 predict() 메서드를 평점이 없는 영화에 반복 수행한 후 결과를 list 객체로 저장\n",
    "#     predictions = [algo.predict(str(userId), str(movieId)) for movieId in unseen_movies]\n",
    "#     # predictions list 객체는 surprise의 Predictions 객체를 원소로 가지고 있음.\n",
    "#     # [Prediction(uid='9', iid='1', est=3.69), Prediction(uid='9', iid='2', est=2.98),,,,]\n",
    "#     # 이를 est 값으로 정렬하기 위해서 아래의 sortkey_est 함수를 정의함.\n",
    "#     # sortkey_est 함수는 list 객체의 sort() 함수의 키 값으로 사용되어 정렬 수행.\n",
    "#     def sortkey_est(pred):\n",
    "#         return pred.est\n",
    "\n",
    "#     # sortkey_est( ) 반환값의 내림 차순으로 정렬 수행하고 top_n개의 최상위 값 추출.\n",
    "#     predictions.sort(key=sortkey_est, reverse=True)    # 내림차순임\n",
    "#     top_predictions= predictions[:top_n]\n",
    "\n",
    "#     # top_n으로 추출된 영화의 정보 추출. 영화 아이디, 추천 예상 평점, 제목 추출\n",
    "#     top_movie_ids = [ int(pred.iid) for pred in top_predictions]\n",
    "#     top_movie_rating = [ pred.est for pred in top_predictions]\n",
    "#     top_movie_titles = movies[movies.movieId.isin(top_movie_ids)]['title']\n",
    "#     top_movie_preds = [ (id, title, rating) for id, title, rating in zip(top_movie_ids, top_movie_titles, top_movie_rating)]\n",
    "\n",
    "#     return top_movie_preds\n",
    "\n",
    "# unseen_movies = get_unseen_surprise(ratings, movies, 9)\n",
    "# top_movie_preds = recomm_movie_by_surprise(algo, 9, unseen_movies, top_n=10)\n",
    "# print('##### Top-10 추천 영화 리스트 #####')\n",
    "\n",
    "# for top_movie in top_movie_preds:\n",
    "#     print(top_movie[1], \":\", top_movie[2])"
   ]
  },
  {
   "cell_type": "code",
   "execution_count": null,
   "id": "KYujYSpwZ0GL",
   "metadata": {
    "colab": {
     "base_uri": "https://localhost:8080/"
    },
    "executionInfo": {
     "elapsed": 37588,
     "status": "ok",
     "timestamp": 1687957248154,
     "user": {
      "displayName": "박주경",
      "userId": "06694313831384541311"
     },
     "user_tz": -540
    },
    "id": "KYujYSpwZ0GL",
    "outputId": "79011a1b-b726-4e4e-fbcd-29bf13dad3e5"
   },
   "outputs": [
    {
     "data": {
      "text/plain": [
       "['유아브랜드', '액상조미료', '전통과자', '사과', '간편조리행사', '기타의류', '대중선어', '잼', '식기', '마른안주']"
      ]
     },
     "execution_count": 71,
     "metadata": {},
     "output_type": "execute_result"
    }
   ],
   "source": [
    "recomm_product_by_surprise(algo, '00007', df, top_n=10)"
   ]
  },
  {
   "cell_type": "code",
   "execution_count": null,
   "id": "o5lBrm4rGxZj",
   "metadata": {
    "colab": {
     "base_uri": "https://localhost:8080/"
    },
    "executionInfo": {
     "elapsed": 872696,
     "status": "ok",
     "timestamp": 1687959479149,
     "user": {
      "displayName": "박주경",
      "userId": "06694313831384541311"
     },
     "user_tz": -540
    },
    "id": "o5lBrm4rGxZj",
    "outputId": "388dd426-4f97-4c2a-bd2c-18e4139bd973"
   },
   "outputs": [
    {
     "name": "stdout",
     "output_type": "stream",
     "text": [
      "Computing the msd similarity matrix...\n",
      "Done computing similarity matrix.\n"
     ]
    },
    {
     "data": {
      "text/plain": [
       "['과자', '음료', '주유소', '기초화장품', '화장품브랜드샵', '아동', '푸드코트', '애견용품', '국내화장품', '편의시설']"
      ]
     },
     "execution_count": 11,
     "metadata": {},
     "output_type": "execute_result"
    }
   ],
   "source": [
    "recomm_product_by_surprise(algo, '00007', df, top_n=10)"
   ]
  },
  {
   "cell_type": "code",
   "execution_count": null,
   "id": "vrTx_Zn6aF3U",
   "metadata": {
    "colab": {
     "base_uri": "https://localhost:8080/",
     "height": 174
    },
    "executionInfo": {
     "elapsed": 415,
     "status": "error",
     "timestamp": 1687999001244,
     "user": {
      "displayName": "박주경",
      "userId": "06694313831384541311"
     },
     "user_tz": -540
    },
    "id": "vrTx_Zn6aF3U",
    "outputId": "bc488366-f14c-4efd-dfc9-b79d19c35703"
   },
   "outputs": [
    {
     "ename": "NameError",
     "evalue": "ignored",
     "output_type": "error",
     "traceback": [
      "\u001b[0;31m---------------------------------------------------------------------------\u001b[0m",
      "\u001b[0;31mNameError\u001b[0m                                 Traceback (most recent call last)",
      "\u001b[0;32m<ipython-input-1-88d5503881d3>\u001b[0m in \u001b[0;36m<cell line: 1>\u001b[0;34m()\u001b[0m\n\u001b[0;32m----> 1\u001b[0;31m \u001b[0mdf\u001b[0m\u001b[0;34m[\u001b[0m\u001b[0mdf\u001b[0m\u001b[0;34m.\u001b[0m\u001b[0m고객번호\u001b[0m \u001b[0;34m==\u001b[0m \u001b[0;34m'00007'\u001b[0m\u001b[0;34m]\u001b[0m\u001b[0;34m.\u001b[0m\u001b[0msort_values\u001b[0m\u001b[0;34m(\u001b[0m\u001b[0mby\u001b[0m\u001b[0;34m=\u001b[0m\u001b[0;34m'개수'\u001b[0m\u001b[0;34m,\u001b[0m \u001b[0mascending\u001b[0m\u001b[0;34m=\u001b[0m\u001b[0;32mFalse\u001b[0m\u001b[0;34m)\u001b[0m\u001b[0;34m\u001b[0m\u001b[0;34m\u001b[0m\u001b[0m\n\u001b[0m",
      "\u001b[0;31mNameError\u001b[0m: name 'df' is not defined"
     ]
    }
   ],
   "source": []
  },
  {
   "cell_type": "code",
   "execution_count": null,
   "id": "5iOhzostJVdW",
   "metadata": {
    "colab": {
     "base_uri": "https://localhost:8080/"
    },
    "executionInfo": {
     "elapsed": 235918,
     "status": "ok",
     "timestamp": 1687959836621,
     "user": {
      "displayName": "박주경",
      "userId": "06694313831384541311"
     },
     "user_tz": -540
    },
    "id": "5iOhzostJVdW",
    "outputId": "dd4e005a-0787-4f98-a4e7-a268aa77e7f6"
   },
   "outputs": [
    {
     "name": "stdout",
     "output_type": "stream",
     "text": [
      "Evaluating RMSE, MAE of algorithm SVD on 5 split(s).\n",
      "\n",
      "                  Fold 1  Fold 2  Fold 3  Fold 4  Fold 5  Mean    Std     \n",
      "RMSE (testset)    23.1904 23.3987 23.2274 23.1508 23.2154 23.2365 0.0852  \n",
      "MAE (testset)     8.4300  8.4087  8.4129  8.4108  8.4055  8.4136  0.0086  \n",
      "Fit time          33.05   31.88   32.06   30.03   31.93   31.79   0.98    \n",
      "Test time         11.33   5.87    6.89    7.79    5.95    7.56    2.01    \n"
     ]
    },
    {
     "data": {
      "text/plain": [
       "{'test_rmse': array([23.19035253, 23.39872752, 23.22740574, 23.15077044, 23.21538997]),\n",
       " 'test_mae': array([8.43003437, 8.40871035, 8.41294092, 8.41082234, 8.4054632 ]),\n",
       " 'fit_time': (33.0541250705719,\n",
       "  31.881619215011597,\n",
       "  32.06323289871216,\n",
       "  30.025591373443604,\n",
       "  31.92580008506775),\n",
       " 'test_time': (11.333791255950928,\n",
       "  5.865387439727783,\n",
       "  6.885962963104248,\n",
       "  7.788859844207764,\n",
       "  5.945485830307007)}"
      ]
     },
     "execution_count": 12,
     "metadata": {},
     "output_type": "execute_result"
    }
   ],
   "source": []
  },
  {
   "cell_type": "code",
   "execution_count": null,
   "id": "mKZst-I4LPOi",
   "metadata": {
    "id": "mKZst-I4LPOi"
   },
   "outputs": [],
   "source": [
    "from surprise import KNNBasic\n",
    "\n",
    "# KNNBasic 알고리즘 인스턴스 생성\n",
    "knn_algo = KNNBasic(k=50, min_k=5, sim_options={'name': 'pearson', 'user_based': True}, verbose=True)\n"
   ]
  },
  {
   "cell_type": "markdown",
   "id": "f4PbFFlJLL6j",
   "metadata": {
    "id": "f4PbFFlJLL6j"
   },
   "source": [
    "서프라이즈(Surprise)는 추천 시스템을 위한 파이썬 라이브러리로, KNNBasic은 Surprise 패키지의 K-최근접 이웃(K-Nearest Neighbors) 알고리즘 중 하나입니다. KNNBasic 알고리즘을 사용할 때 주요한 매개변수들은 다음과 같습니다:\n",
    "\n",
    "k (기본값: 40): 최근접 이웃의 개수를 의미합니다. 이웃의 개수가 많을수록 모델의 복잡도가 증가하고 실행 시간이 더 오래 걸릴 수 있습니다. 적절한 k 값을 설정하는 것은 모델의 성능에 영향을 미칩니다.\n",
    "\n",
    "min_k (기본값: 1): 예측을 수행하기 위해 최소한 필요한 이웃의 개수입니다. min_k 이하의 이웃을 가진 사용자나 상품에 대해서는 예측을 수행하지 않습니다.\n",
    "\n",
    "sim_options: 유사도 계산 방법을 설정하는 옵션입니다. 주요 매개변수로는 name과 user_based가 있습니다. name은 유사도 계산 방법을 선택하며, \"cosine\", \"pearson\", \"pearson_baseline\", \"msd\", \"cosine_baseline\" 등이 사용될 수 있습니다. user_based는 유사도를 계산하는 방향을 의미하며, True일 경우 사용자 기반 유사도를, False일 경우 상품 기반 유사도를 사용합니다.\n",
    "\n",
    "verbose (기본값: True): 알고리즘의 실행 과정을 출력할지 여부를 설정합니다. True로 설정하면 실행 과정이 출력되고, False로 설정하면 출력이 생략됩니다.\n",
    "\n",
    "이러한 매개변수들을 조정하여 KNNBasic 알고리즘을 설정할 수 있습니다. 예를 들어, 아래는 KNNBasic 알고리즘의 매개변수 설정 예시입니다:"
   ]
  },
  {
   "cell_type": "markdown",
   "id": "Ua53kssmDVW3",
   "metadata": {
    "id": "Ua53kssmDVW3"
   },
   "source": [
    "UserId - 고객ID\n",
    "ItemId - 상품분류체계(대분류, 유형, 고중저가 등의 형태)\n",
    "ratings - 구매횟수(빈도), 구매금액 -> 지수화"
   ]
  },
  {
   "cell_type": "code",
   "execution_count": null,
   "id": "jcIq7voWHn6p",
   "metadata": {
    "colab": {
     "base_uri": "https://localhost:8080/",
     "height": 424
    },
    "executionInfo": {
     "elapsed": 328,
     "status": "ok",
     "timestamp": 1687941368616,
     "user": {
      "displayName": "박주경",
      "userId": "06694313831384541311"
     },
     "user_tz": -540
    },
    "id": "jcIq7voWHn6p",
    "outputId": "e19a4c05-f540-4bf1-ff20-805185fc2f94"
   },
   "outputs": [
    {
     "data": {
      "text/html": [
       "\n",
       "  <div id=\"df-814dbf31-b6a8-41f3-98af-41d7f3ac21f1\">\n",
       "    <div class=\"colab-df-container\">\n",
       "      <div>\n",
       "<style scoped>\n",
       "    .dataframe tbody tr th:only-of-type {\n",
       "        vertical-align: middle;\n",
       "    }\n",
       "\n",
       "    .dataframe tbody tr th {\n",
       "        vertical-align: top;\n",
       "    }\n",
       "\n",
       "    .dataframe thead th {\n",
       "        text-align: right;\n",
       "    }\n",
       "</style>\n",
       "<table border=\"1\" class=\"dataframe\">\n",
       "  <thead>\n",
       "    <tr style=\"text-align: right;\">\n",
       "      <th></th>\n",
       "      <th>고객번호</th>\n",
       "      <th>상품</th>\n",
       "      <th>횟수</th>\n",
       "    </tr>\n",
       "  </thead>\n",
       "  <tbody>\n",
       "    <tr>\n",
       "      <th>0</th>\n",
       "      <td>7</td>\n",
       "      <td>가공건수</td>\n",
       "      <td>312</td>\n",
       "    </tr>\n",
       "    <tr>\n",
       "      <th>1</th>\n",
       "      <td>7</td>\n",
       "      <td>신선건수</td>\n",
       "      <td>137</td>\n",
       "    </tr>\n",
       "    <tr>\n",
       "      <th>2</th>\n",
       "      <td>7</td>\n",
       "      <td>외식/편의시설건수</td>\n",
       "      <td>0</td>\n",
       "    </tr>\n",
       "    <tr>\n",
       "      <th>3</th>\n",
       "      <td>7</td>\n",
       "      <td>일상건수</td>\n",
       "      <td>68</td>\n",
       "    </tr>\n",
       "    <tr>\n",
       "      <th>4</th>\n",
       "      <td>7</td>\n",
       "      <td>의료건수</td>\n",
       "      <td>2</td>\n",
       "    </tr>\n",
       "    <tr>\n",
       "      <th>...</th>\n",
       "      <td>...</td>\n",
       "      <td>...</td>\n",
       "      <td>...</td>\n",
       "    </tr>\n",
       "    <tr>\n",
       "      <th>49585</th>\n",
       "      <td>19325</td>\n",
       "      <td>스포츠건수</td>\n",
       "      <td>20</td>\n",
       "    </tr>\n",
       "    <tr>\n",
       "      <th>49586</th>\n",
       "      <td>19325</td>\n",
       "      <td>패션/잡화건수</td>\n",
       "      <td>10</td>\n",
       "    </tr>\n",
       "    <tr>\n",
       "      <th>49587</th>\n",
       "      <td>19325</td>\n",
       "      <td>유아/아동건수</td>\n",
       "      <td>5</td>\n",
       "    </tr>\n",
       "    <tr>\n",
       "      <th>49588</th>\n",
       "      <td>19325</td>\n",
       "      <td>명품건수</td>\n",
       "      <td>10</td>\n",
       "    </tr>\n",
       "    <tr>\n",
       "      <th>49589</th>\n",
       "      <td>19325</td>\n",
       "      <td>Total_count</td>\n",
       "      <td>5440</td>\n",
       "    </tr>\n",
       "  </tbody>\n",
       "</table>\n",
       "<p>49590 rows × 3 columns</p>\n",
       "</div>\n",
       "      <button class=\"colab-df-convert\" onclick=\"convertToInteractive('df-814dbf31-b6a8-41f3-98af-41d7f3ac21f1')\"\n",
       "              title=\"Convert this dataframe to an interactive table.\"\n",
       "              style=\"display:none;\">\n",
       "        \n",
       "  <svg xmlns=\"http://www.w3.org/2000/svg\" height=\"24px\"viewBox=\"0 0 24 24\"\n",
       "       width=\"24px\">\n",
       "    <path d=\"M0 0h24v24H0V0z\" fill=\"none\"/>\n",
       "    <path d=\"M18.56 5.44l.94 2.06.94-2.06 2.06-.94-2.06-.94-.94-2.06-.94 2.06-2.06.94zm-11 1L8.5 8.5l.94-2.06 2.06-.94-2.06-.94L8.5 2.5l-.94 2.06-2.06.94zm10 10l.94 2.06.94-2.06 2.06-.94-2.06-.94-.94-2.06-.94 2.06-2.06.94z\"/><path d=\"M17.41 7.96l-1.37-1.37c-.4-.4-.92-.59-1.43-.59-.52 0-1.04.2-1.43.59L10.3 9.45l-7.72 7.72c-.78.78-.78 2.05 0 2.83L4 21.41c.39.39.9.59 1.41.59.51 0 1.02-.2 1.41-.59l7.78-7.78 2.81-2.81c.8-.78.8-2.07 0-2.86zM5.41 20L4 18.59l7.72-7.72 1.47 1.35L5.41 20z\"/>\n",
       "  </svg>\n",
       "      </button>\n",
       "      \n",
       "  <style>\n",
       "    .colab-df-container {\n",
       "      display:flex;\n",
       "      flex-wrap:wrap;\n",
       "      gap: 12px;\n",
       "    }\n",
       "\n",
       "    .colab-df-convert {\n",
       "      background-color: #E8F0FE;\n",
       "      border: none;\n",
       "      border-radius: 50%;\n",
       "      cursor: pointer;\n",
       "      display: none;\n",
       "      fill: #1967D2;\n",
       "      height: 32px;\n",
       "      padding: 0 0 0 0;\n",
       "      width: 32px;\n",
       "    }\n",
       "\n",
       "    .colab-df-convert:hover {\n",
       "      background-color: #E2EBFA;\n",
       "      box-shadow: 0px 1px 2px rgba(60, 64, 67, 0.3), 0px 1px 3px 1px rgba(60, 64, 67, 0.15);\n",
       "      fill: #174EA6;\n",
       "    }\n",
       "\n",
       "    [theme=dark] .colab-df-convert {\n",
       "      background-color: #3B4455;\n",
       "      fill: #D2E3FC;\n",
       "    }\n",
       "\n",
       "    [theme=dark] .colab-df-convert:hover {\n",
       "      background-color: #434B5C;\n",
       "      box-shadow: 0px 1px 3px 1px rgba(0, 0, 0, 0.15);\n",
       "      filter: drop-shadow(0px 1px 2px rgba(0, 0, 0, 0.3));\n",
       "      fill: #FFFFFF;\n",
       "    }\n",
       "  </style>\n",
       "\n",
       "      <script>\n",
       "        const buttonEl =\n",
       "          document.querySelector('#df-814dbf31-b6a8-41f3-98af-41d7f3ac21f1 button.colab-df-convert');\n",
       "        buttonEl.style.display =\n",
       "          google.colab.kernel.accessAllowed ? 'block' : 'none';\n",
       "\n",
       "        async function convertToInteractive(key) {\n",
       "          const element = document.querySelector('#df-814dbf31-b6a8-41f3-98af-41d7f3ac21f1');\n",
       "          const dataTable =\n",
       "            await google.colab.kernel.invokeFunction('convertToInteractive',\n",
       "                                                     [key], {});\n",
       "          if (!dataTable) return;\n",
       "\n",
       "          const docLinkHtml = 'Like what you see? Visit the ' +\n",
       "            '<a target=\"_blank\" href=https://colab.research.google.com/notebooks/data_table.ipynb>data table notebook</a>'\n",
       "            + ' to learn more about interactive tables.';\n",
       "          element.innerHTML = '';\n",
       "          dataTable['output_type'] = 'display_data';\n",
       "          await google.colab.output.renderOutput(dataTable, element);\n",
       "          const docLink = document.createElement('div');\n",
       "          docLink.innerHTML = docLinkHtml;\n",
       "          element.appendChild(docLink);\n",
       "        }\n",
       "      </script>\n",
       "    </div>\n",
       "  </div>\n",
       "  "
      ],
      "text/plain": [
       "        고객번호           상품    횟수\n",
       "0          7         가공건수   312\n",
       "1          7         신선건수   137\n",
       "2          7    외식/편의시설건수     0\n",
       "3          7         일상건수    68\n",
       "4          7         의료건수     2\n",
       "...      ...          ...   ...\n",
       "49585  19325        스포츠건수    20\n",
       "49586  19325      패션/잡화건수    10\n",
       "49587  19325      유아/아동건수     5\n",
       "49588  19325         명품건수    10\n",
       "49589  19325  Total_count  5440\n",
       "\n",
       "[49590 rows x 3 columns]"
      ]
     },
     "execution_count": 24,
     "metadata": {},
     "output_type": "execute_result"
    }
   ],
   "source": [
    "# # 기존 master_c0 등을 서프라이즈에 맞게끔 가공하는 코드\n",
    "\n",
    "# import pandas as pd\n",
    "# from surprise import Dataset\n",
    "# from surprise import Reader\n",
    "\n",
    "# # 건수 컬럼들을 하나의 컬럼으로 합치기\n",
    "# master_c0_f['Total_count'] = master_c0_f.sum(axis=1)\n",
    "\n",
    "# # 데이터프레임을 Surprise 라이브러리의 Dataset 형식으로 변환\n",
    "# reader = Reader(rating_scale=(0, 1))  # rating_scale은 예시로 설정한 범위에 맞게 조정해주세요\n",
    "\n",
    "# # 데이터프레임에서 사용자 ID, 아이템 ID, 평점 컬럼으로 구성된 새로운 데이터프레임 생성\n",
    "# df_for_surprise = pd.DataFrame({'고객번호': master_c0_f.index.repeat(len(master_c0_f.columns)),\n",
    "#                                '상품': master_c0_f.columns.tolist() * len(master_c0_f),\n",
    "#                                '횟수': master_c0_f.values.flatten()})\n",
    "\n",
    "# dataset = Dataset.load_from_df(df_for_surprise, reader)\n",
    "\n",
    "# # 결과 확인\n",
    "# df_for_surprise\n"
   ]
  }
 ],
 "metadata": {
  "accelerator": "GPU",
  "colab": {
   "gpuType": "A100",
   "machine_shape": "hm",
   "provenance": []
  },
  "kernelspec": {
   "display_name": "Python 3 (ipykernel)",
   "language": "python",
   "name": "python3"
  },
  "language_info": {
   "codemirror_mode": {
    "name": "ipython",
    "version": 3
   },
   "file_extension": ".py",
   "mimetype": "text/x-python",
   "name": "python",
   "nbconvert_exporter": "python",
   "pygments_lexer": "ipython3",
   "version": "3.9.13"
  }
 },
 "nbformat": 4,
 "nbformat_minor": 5
}
